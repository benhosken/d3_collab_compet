{
 "cells": [
  {
   "cell_type": "markdown",
   "metadata": {
    "deletable": true,
    "editable": true
   },
   "source": [
    "# Collaboration and Competition\n",
    "\n",
    "---\n",
    "\n",
    "In this notebook, you will learn how to use the Unity ML-Agents environment for the third project of the [Deep Reinforcement Learning Nanodegree](https://www.udacity.com/course/deep-reinforcement-learning-nanodegree--nd893) program.\n",
    "\n",
    "### 1. Start the Environment\n",
    "\n",
    "We begin by importing the necessary packages.  If the code cell below returns an error, please revisit the project instructions to double-check that you have installed [Unity ML-Agents](https://github.com/Unity-Technologies/ml-agents/blob/master/docs/Installation.md) and [NumPy](http://www.numpy.org/)."
   ]
  },
  {
   "cell_type": "code",
   "execution_count": 1,
   "metadata": {
    "collapsed": true,
    "deletable": true,
    "editable": true
   },
   "outputs": [],
   "source": [
    "from unityagents import UnityEnvironment\n",
    "import numpy as np\n",
    "\n",
    "import random\n",
    "import torch\n",
    "from collections import deque\n",
    "import matplotlib.pyplot as plt\n",
    "%matplotlib inline\n",
    "\n",
    "from ddpg_agent import Agent"
   ]
  },
  {
   "cell_type": "markdown",
   "metadata": {
    "deletable": true,
    "editable": true
   },
   "source": [
    "Next, we will start the environment!  **_Before running the code cell below_**, change the `file_name` parameter to match the location of the Unity environment that you downloaded.\n",
    "\n",
    "- **Mac**: `\"path/to/Tennis.app\"`\n",
    "- **Windows** (x86): `\"path/to/Tennis_Windows_x86/Tennis.exe\"`\n",
    "- **Windows** (x86_64): `\"path/to/Tennis_Windows_x86_64/Tennis.exe\"`\n",
    "- **Linux** (x86): `\"path/to/Tennis_Linux/Tennis.x86\"`\n",
    "- **Linux** (x86_64): `\"path/to/Tennis_Linux/Tennis.x86_64\"`\n",
    "- **Linux** (x86, headless): `\"path/to/Tennis_Linux_NoVis/Tennis.x86\"`\n",
    "- **Linux** (x86_64, headless): `\"path/to/Tennis_Linux_NoVis/Tennis.x86_64\"`\n",
    "\n",
    "For instance, if you are using a Mac, then you downloaded `Tennis.app`.  If this file is in the same folder as the notebook, then the line below should appear as follows:\n",
    "```\n",
    "env = UnityEnvironment(file_name=\"Tennis.app\")\n",
    "```"
   ]
  },
  {
   "cell_type": "code",
   "execution_count": 2,
   "metadata": {
    "collapsed": false,
    "deletable": true,
    "editable": true
   },
   "outputs": [
    {
     "name": "stderr",
     "output_type": "stream",
     "text": [
      "INFO:unityagents:\n",
      "'Academy' started successfully!\n",
      "Unity Academy name: Academy\n",
      "        Number of Brains: 1\n",
      "        Number of External Brains : 1\n",
      "        Lesson number : 0\n",
      "        Reset Parameters :\n",
      "\t\t\n",
      "Unity brain name: TennisBrain\n",
      "        Number of Visual Observations (per agent): 0\n",
      "        Vector Observation space type: continuous\n",
      "        Vector Observation space size (per agent): 8\n",
      "        Number of stacked Vector Observation: 3\n",
      "        Vector Action space type: continuous\n",
      "        Vector Action space size (per agent): 2\n",
      "        Vector Action descriptions: , \n"
     ]
    }
   ],
   "source": [
    "env = UnityEnvironment(file_name=\"Tennis.app\")"
   ]
  },
  {
   "cell_type": "markdown",
   "metadata": {
    "deletable": true,
    "editable": true
   },
   "source": [
    "Environments contain **_brains_** which are responsible for deciding the actions of their associated agents. Here we check for the first brain available, and set it as the default brain we will be controlling from Python."
   ]
  },
  {
   "cell_type": "code",
   "execution_count": 3,
   "metadata": {
    "collapsed": true,
    "deletable": true,
    "editable": true
   },
   "outputs": [],
   "source": [
    "# get the default brain\n",
    "brain_name = env.brain_names[0]\n",
    "brain = env.brains[brain_name]"
   ]
  },
  {
   "cell_type": "markdown",
   "metadata": {
    "deletable": true,
    "editable": true
   },
   "source": [
    "### 2. Examine the State and Action Spaces\n",
    "\n",
    "In this environment, two agents control rackets to bounce a ball over a net. If an agent hits the ball over the net, it receives a reward of +0.1.  If an agent lets a ball hit the ground or hits the ball out of bounds, it receives a reward of -0.01.  Thus, the goal of each agent is to keep the ball in play.\n",
    "\n",
    "The observation space consists of 8 variables corresponding to the position and velocity of the ball and racket. Two continuous actions are available, corresponding to movement toward (or away from) the net, and jumping. \n",
    "\n",
    "Run the code cell below to print some information about the environment."
   ]
  },
  {
   "cell_type": "code",
   "execution_count": 4,
   "metadata": {
    "collapsed": false,
    "deletable": true,
    "editable": true
   },
   "outputs": [
    {
     "name": "stdout",
     "output_type": "stream",
     "text": [
      "Number of agents: 2\n",
      "Size of each action: 2\n",
      "There are 2 agents. Each observes a state with length: 24\n",
      "The state for the first agent looks like: [ 0.          0.          0.          0.          0.          0.\n",
      "  0.          0.          0.          0.          0.          0.\n",
      "  0.          0.          0.          0.         -6.65278625 -1.5\n",
      " -0.          0.          6.83172083  6.         -0.          0.        ]\n"
     ]
    }
   ],
   "source": [
    "# reset the environment\n",
    "env_info = env.reset(train_mode=True)[brain_name]\n",
    "\n",
    "# number of agents \n",
    "num_agents = len(env_info.agents)\n",
    "print('Number of agents:', num_agents)\n",
    "\n",
    "# size of each action\n",
    "action_size = brain.vector_action_space_size\n",
    "print('Size of each action:', action_size)\n",
    "\n",
    "# examine the state space \n",
    "states = env_info.vector_observations\n",
    "state_size = states.shape[1]\n",
    "print('There are {} agents. Each observes a state with length: {}'.format(states.shape[0], state_size))\n",
    "print('The state for the first agent looks like:', states[0])"
   ]
  },
  {
   "cell_type": "markdown",
   "metadata": {
    "deletable": true,
    "editable": true
   },
   "source": [
    "### 4. It's Your Turn!\n",
    "\n",
    "Now it's your turn to train your own agent to solve the environment!  When training the environment, set `train_mode=True`, so that the line for resetting the environment looks like the following:\n",
    "```python\n",
    "env_info = env.reset(train_mode=True)[brain_name]\n",
    "```"
   ]
  },
  {
   "cell_type": "markdown",
   "metadata": {
    "deletable": true,
    "editable": true
   },
   "source": [
    "###  Setup environment"
   ]
  },
  {
   "cell_type": "code",
   "execution_count": 5,
   "metadata": {
    "collapsed": false,
    "deletable": true,
    "editable": true
   },
   "outputs": [],
   "source": [
    "\n",
    "agent = Agent(state_size=state_size, action_size=action_size, random_seed=2)\n",
    "\n"
   ]
  },
  {
   "cell_type": "markdown",
   "metadata": {
    "deletable": true,
    "editable": true
   },
   "source": [
    "### Train the agent using ddpg"
   ]
  },
  {
   "cell_type": "code",
   "execution_count": 6,
   "metadata": {
    "collapsed": false,
    "deletable": true,
    "editable": true
   },
   "outputs": [
    {
     "name": "stdout",
     "output_type": "stream",
     "text": [
      "Episode 1\tAverage Score: -0.00\tScore: -0.00 New best\n",
      "Episode 4\tAverage Score: -0.00\tScore: -0.00"
     ]
    },
    {
     "name": "stderr",
     "output_type": "stream",
     "text": [
      "/Users/benhosken/Desktop/udacity/deep_rl_nanodegree/deep-reinforcement-learning/p3_collab-compet/ddpg_agent.py:122: UserWarning: torch.nn.utils.clip_grad_norm is now deprecated in favor of torch.nn.utils.clip_grad_norm_.\n",
      "  torch.nn.utils.clip_grad_norm(self.critic_local.parameters(), 1)\n"
     ]
    },
    {
     "name": "stdout",
     "output_type": "stream",
     "text": [
      "Episode 16\tAverage Score: -0.00\tScore: 0.05 New best\n",
      "Episode 18\tAverage Score: 0.00\tScore: 0.05 New best\n",
      "Episode 41\tAverage Score: 0.00\tScore: 0.15 New best\n",
      "Episode 43\tAverage Score: 0.00\tScore: 0.05 New best\n",
      "Episode 44\tAverage Score: 0.00\tScore: 0.05 New best\n",
      "Episode 47\tAverage Score: 0.00\tScore: 0.05 New best\n",
      "Episode 48\tAverage Score: 0.01\tScore: 0.05 New best\n",
      "Episode 49\tAverage Score: 0.01\tScore: 0.10 New best\n",
      "Episode 50\tAverage Score: 0.01\tScore: 0.05 New best\n",
      "Episode 100\tAverage Score: 0.00\tScore: -0.00\n",
      "Episode 147\tAverage Score: 0.01\tScore: 0.65 New best\n",
      "Episode 166\tAverage Score: 0.01\tScore: 0.15 New best\n",
      "Episode 167\tAverage Score: 0.01\tScore: 0.25 New best\n",
      "Episode 168\tAverage Score: 0.01\tScore: 0.15 New best\n",
      "Episode 169\tAverage Score: 0.01\tScore: 0.05 New best\n",
      "Episode 170\tAverage Score: 0.02\tScore: 0.05 New best\n",
      "Episode 171\tAverage Score: 0.02\tScore: 0.05 New best\n",
      "Episode 172\tAverage Score: 0.02\tScore: 0.05 New best\n",
      "Episode 173\tAverage Score: 0.02\tScore: 0.05 New best\n",
      "Episode 174\tAverage Score: 0.02\tScore: 0.05 New best\n",
      "Episode 175\tAverage Score: 0.02\tScore: 0.05 New best\n",
      "Episode 178\tAverage Score: 0.02\tScore: 0.05 New best\n",
      "Episode 179\tAverage Score: 0.02\tScore: 0.05 New best\n",
      "Episode 180\tAverage Score: 0.02\tScore: 0.10 New best\n",
      "Episode 181\tAverage Score: 0.02\tScore: 0.05 New best\n",
      "Episode 182\tAverage Score: 0.02\tScore: 0.05 New best\n",
      "Episode 183\tAverage Score: 0.02\tScore: 0.15 New best\n",
      "Episode 184\tAverage Score: 0.02\tScore: 0.05 New best\n",
      "Episode 185\tAverage Score: 0.02\tScore: 0.05 New best\n",
      "Episode 186\tAverage Score: 0.02\tScore: 0.05 New best\n",
      "Episode 187\tAverage Score: 0.02\tScore: 0.05 New best\n",
      "Episode 191\tAverage Score: 0.02\tScore: 0.05 New best\n",
      "Episode 192\tAverage Score: 0.03\tScore: 0.25 New best\n",
      "Episode 193\tAverage Score: 0.03\tScore: 0.10 New best\n",
      "Episode 194\tAverage Score: 0.03\tScore: 0.05 New best\n",
      "Episode 195\tAverage Score: 0.03\tScore: 0.10 New best\n",
      "Episode 196\tAverage Score: 0.03\tScore: 0.05 New best\n",
      "Episode 197\tAverage Score: 0.03\tScore: 0.20 New best\n",
      "Episode 199\tAverage Score: 0.03\tScore: 0.10 New best\n",
      "Episode 200\tAverage Score: 0.03\tScore: 0.10 New best\n",
      "Episode 200\tAverage Score: 0.03\n",
      "Episode 201\tAverage Score: 0.03\tScore: 0.10 New best\n",
      "Episode 202\tAverage Score: 0.03\tScore: 0.05 New best\n",
      "Episode 204\tAverage Score: 0.04\tScore: 0.10 New best\n",
      "Episode 205\tAverage Score: 0.04\tScore: 0.10 New best\n",
      "Episode 206\tAverage Score: 0.04\tScore: 0.20 New best\n",
      "Episode 207\tAverage Score: 0.04\tScore: 0.05 New best\n",
      "Episode 208\tAverage Score: 0.04\tScore: 0.05 New best\n",
      "Episode 209\tAverage Score: 0.04\tScore: 0.05 New best\n",
      "Episode 210\tAverage Score: 0.04\tScore: 0.10 New best\n",
      "Episode 211\tAverage Score: 0.04\tScore: 0.10 New best\n",
      "Episode 212\tAverage Score: 0.04\tScore: 0.05 New best\n",
      "Episode 213\tAverage Score: 0.05\tScore: 0.25 New best\n",
      "Episode 214\tAverage Score: 0.05\tScore: 0.60 New best\n",
      "Episode 216\tAverage Score: 0.05\tScore: 0.20 New best\n",
      "Episode 217\tAverage Score: 0.05\tScore: 0.25 New best\n",
      "Episode 218\tAverage Score: 0.06\tScore: 0.25 New best\n",
      "Episode 219\tAverage Score: 0.06\tScore: 0.05 New best\n",
      "Episode 220\tAverage Score: 0.06\tScore: 0.20 New best\n",
      "Episode 221\tAverage Score: 0.06\tScore: 0.20 New best\n",
      "Episode 222\tAverage Score: 0.06\tScore: 0.15 New best\n",
      "Episode 223\tAverage Score: 0.06\tScore: 0.15 New best\n",
      "Episode 224\tAverage Score: 0.07\tScore: 0.15 New best\n",
      "Episode 225\tAverage Score: 0.07\tScore: 0.10 New best\n",
      "Episode 226\tAverage Score: 0.07\tScore: 0.20 New best\n",
      "Episode 227\tAverage Score: 0.07\tScore: 0.20 New best\n",
      "Episode 228\tAverage Score: 0.07\tScore: 0.45 New best\n",
      "Episode 229\tAverage Score: 0.08\tScore: 0.15 New best\n",
      "Episode 230\tAverage Score: 0.08\tScore: 0.15 New best\n",
      "Episode 231\tAverage Score: 0.08\tScore: 0.05 New best\n",
      "Episode 232\tAverage Score: 0.08\tScore: 0.15 New best\n",
      "Episode 233\tAverage Score: 0.08\tScore: 0.10 New best\n",
      "Episode 234\tAverage Score: 0.08\tScore: 0.15 New best\n",
      "Episode 235\tAverage Score: 0.09\tScore: 0.75 New best\n",
      "Episode 236\tAverage Score: 0.09\tScore: 0.20 New best\n",
      "Episode 237\tAverage Score: 0.09\tScore: 0.10 New best\n",
      "Episode 238\tAverage Score: 0.09\tScore: 0.15 New best\n",
      "Episode 241\tAverage Score: 0.10\tScore: 0.15 New best\n",
      "Episode 242\tAverage Score: 0.10\tScore: 0.25 New best\n",
      "Episode 245\tAverage Score: 0.11\tScore: 0.75 New best\n",
      "Episode 251\tAverage Score: 0.12\tScore: 1.35 New best\n",
      "Episode 252\tAverage Score: 0.12\tScore: 0.80 New best\n",
      "Episode 253\tAverage Score: 0.13\tScore: 0.55 New best\n",
      "Episode 254\tAverage Score: 0.13\tScore: 0.15 New best\n",
      "Episode 255\tAverage Score: 0.13\tScore: 0.25 New best\n",
      "Episode 256\tAverage Score: 0.14\tScore: 0.25 New best\n",
      "Episode 257\tAverage Score: 0.14\tScore: 0.10 New best\n",
      "Episode 258\tAverage Score: 0.14\tScore: 0.05 New best\n",
      "Episode 261\tAverage Score: 0.14\tScore: 0.05 New best\n",
      "Episode 263\tAverage Score: 0.14\tScore: 0.15 New best\n",
      "Episode 264\tAverage Score: 0.15\tScore: 0.75 New best\n",
      "Episode 265\tAverage Score: 0.15\tScore: 0.25 New best\n",
      "Episode 267\tAverage Score: 0.15\tScore: 0.35 New best\n",
      "Episode 268\tAverage Score: 0.17\tScore: 2.05 New best\n",
      "Episode 270\tAverage Score: 0.17\tScore: 0.40 New best\n",
      "Episode 272\tAverage Score: 0.20\tScore: 2.60 New best\n",
      "Episode 273\tAverage Score: 0.20\tScore: 0.40 New best\n",
      "Episode 274\tAverage Score: 0.23\tScore: 2.60 New best\n",
      "Episode 275\tAverage Score: 0.23\tScore: 0.40 New best\n",
      "Episode 276\tAverage Score: 0.24\tScore: 0.80 New best\n",
      "Episode 277\tAverage Score: 0.24\tScore: 0.10 New best\n",
      "Episode 278\tAverage Score: 0.25\tScore: 1.40 New best\n",
      "Episode 279\tAverage Score: 0.25\tScore: 0.10 New best\n",
      "Episode 281\tAverage Score: 0.28\tScore: 2.60 New best\n",
      "Episode 282\tAverage Score: 0.30\tScore: 2.65 New best\n",
      "Episode 283\tAverage Score: 0.33\tScore: 2.60 New best\n",
      "Episode 284\tAverage Score: 0.35\tScore: 2.65 New best\n",
      "Episode 285\tAverage Score: 0.38\tScore: 2.65 New best\n",
      "Episode 286\tAverage Score: 0.40\tScore: 2.60 New best\n",
      "Episode 287\tAverage Score: 0.43\tScore: 2.65 New best\n",
      "Episode 288\tAverage Score: 0.46\tScore: 2.60 New best\n",
      "Episode 289\tAverage Score: 0.48\tScore: 2.65 New best\n",
      "Episode 290\tAverage Score: 0.51\tScore: 2.60 New best\n",
      "\n",
      "Episode 290: Avg. Score 0.51 > 0.5.\n"
     ]
    },
    {
     "data": {
      "image/png": "[encoded data removed]",
      "text/plain": [
       "<matplotlib.figure.Figure at 0x110d8d240>"
      ]
     },
     "metadata": {},
     "output_type": "display_data"
    }
   ],
   "source": [
    "def ddpg(n_episodes=1500, max_t=1000, print_every=100, update_every=10):\n",
    "    scores_deque = deque(maxlen=print_every)\n",
    "    scores = []\n",
    "    max_score = -np.Inf\n",
    "    for i_episode in range(1, n_episodes+1):\n",
    "        env_info = env.reset(train_mode=True)[brain_name]\n",
    "        states = env_info.vector_observations \n",
    "\n",
    "        agent.reset()\n",
    "        agent_scores = np.zeros(num_agents)\n",
    "        for t in range(max_t):\n",
    "            actions = agent.act(states, add_noise=False)         # select an action (preclipped)\n",
    "            env_info = env.step(actions)[brain_name]           # send all actions to tne environment\n",
    "            next_states = env_info.vector_observations         # get next state (for each agent)\n",
    "            rewards = env_info.rewards                         # get reward (for each agent)\n",
    "            dones = env_info.local_done                        # see if episode finished\n",
    "            agent_scores += env_info.rewards                         # update the score (for each agent)\n",
    "            \n",
    "            # note - zipping here as the dimensions don't align in the learning otherwise. #odd\n",
    "            for state, action, reward, next_state, done in zip(states, actions, rewards, next_states, dones):\n",
    "                agent.step(state, action, reward, next_state, done) # send actions to the agent\n",
    "            \n",
    "            states = next_states                               # roll over states to next time step\n",
    "           \n",
    "            if t % update_every == 0:\n",
    "                 agent.do_learning()\n",
    "\n",
    "            \n",
    "            if np.any(dones):\n",
    "                break \n",
    "\n",
    "        mean_score = np.mean(agent_scores) # calculate the mean score across the agents\n",
    "        scores_deque.append(mean_score)\n",
    "        scores.append(mean_score)\n",
    "        average_score = np.mean(scores_deque)\n",
    "        print('\\rEpisode {}\\tAverage Score: {:.2f}\\tScore: {:.2f}'.format(i_episode, average_score, mean_score), end=\"\")\n",
    "        if average_score > max_score:\n",
    "            print(\" New best\")\n",
    "            max_score = average_score\n",
    "            torch.save(agent.actor_local.state_dict(), 'checkpoint_actor.pth')\n",
    "            torch.save(agent.critic_local.state_dict(), 'checkpoint_critic.pth')\n",
    "            \n",
    "        if i_episode % 100 == 0:\n",
    "            print('\\rEpisode {}\\tAverage Score: {:.2f}'.format(i_episode, average_score)) \n",
    "        if average_score > 0.5:\n",
    "            print('\\nEpisode {}: Avg. Score {:.2f} > 0.5.'.format(i_episode, average_score))\n",
    "            torch.save(agent.actor_local.state_dict(), 'checkpoint_actor.pth')\n",
    "            torch.save(agent.critic_local.state_dict(), 'checkpoint_critic.pth')\n",
    "            break # as we have solvced it            \n",
    "    return scores\n",
    "\n",
    "\n",
    "# reload the best weights so far\n",
    "# agent.actor_local.load_state_dict(torch.load('checkpoint_actor.pth'))\n",
    "# agent.critic_local.load_state_dict(torch.load('checkpoint_critic.pth'))\n",
    "\n",
    "\n",
    "scores = ddpg()\n",
    "\n",
    "fig = plt.figure()\n",
    "ax = fig.add_subplot(111)\n",
    "plt.plot(np.arange(1, len(scores)+1), scores)\n",
    "plt.ylabel('Score')\n",
    "plt.xlabel('Episode #')\n",
    "plt.show()"
   ]
  },
  {
   "cell_type": "markdown",
   "metadata": {
    "deletable": true,
    "editable": true
   },
   "source": [
    "### Now watch a trained agent"
   ]
  },
  {
   "cell_type": "code",
   "execution_count": 7,
   "metadata": {
    "collapsed": false,
    "deletable": true,
    "editable": true
   },
   "outputs": [
    {
     "name": "stdout",
     "output_type": "stream",
     "text": [
      "Total score (averaged over agents) this episode: 2.650000039488077\n"
     ]
    }
   ],
   "source": [
    "agent.actor_local.load_state_dict(torch.load('checkpoint_actor.pth'))\n",
    "agent.critic_local.load_state_dict(torch.load('checkpoint_critic.pth'))\n",
    "\n",
    "env_info = env.reset(train_mode=False)[brain_name]     # reset the environment    \n",
    "states = env_info.vector_observations                  # get the current state (for each agent)\n",
    "scores = np.zeros(num_agents)                          # initialize the scores (for each agent)\n",
    "while True:\n",
    "    actions = agent.act(states)                         # select an action (preclipped)\n",
    "    env_info = env.step(actions)[brain_name]           # send all actions to tne environment\n",
    "    next_states = env_info.vector_observations         # get next state (for each agent)\n",
    "    rewards = env_info.rewards                         # get reward (for each agent)\n",
    "    dones = env_info.local_done                        # see if episode finished\n",
    "    scores += env_info.rewards                         # update the score (for each agent)\n",
    "    states = next_states                               # roll over states to next time step\n",
    "    if np.any(dones):                                  # exit loop if episode finished\n",
    "        break\n",
    "print('Total score (averaged over agents) this episode: {}'.format(np.mean(scores)))"
   ]
  },
  {
   "cell_type": "code",
   "execution_count": 8,
   "metadata": {
    "collapsed": true,
    "deletable": true,
    "editable": true
   },
   "outputs": [],
   "source": [
    "env.close()"
   ]
  },
  {
   "cell_type": "code",
   "execution_count": null,
   "metadata": {
    "collapsed": true,
    "deletable": true,
    "editable": true
   },
   "outputs": [],
   "source": []
  }
 ],
 "metadata": {
  "kernelspec": {
   "display_name": "Python 3",
   "language": "python",
   "name": "python3"
  },
  "language_info": {
   "codemirror_mode": {
    "name": "ipython",
    "version": 3
   },
   "file_extension": ".py",
   "mimetype": "text/x-python",
   "name": "python",
   "nbconvert_exporter": "python",
   "pygments_lexer": "ipython3",
   "version": "3.6.4"
  }
 },
 "nbformat": 4,
 "nbformat_minor": 2
}
